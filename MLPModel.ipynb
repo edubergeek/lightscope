{
 "cells": [
  {
   "cell_type": "code",
   "execution_count": 1,
   "id": "76e17d7b",
   "metadata": {},
   "outputs": [
    {
     "name": "stderr",
     "output_type": "stream",
     "text": [
      "2025-10-06 03:13:43.303840: I tensorflow/core/platform/cpu_feature_guard.cc:211] This TensorFlow binary is optimized to use available CPU instructions in performance-critical operations.\n",
      "To enable the following instructions: SSE3 SSE4.1 SSE4.2 AVX, in other operations, rebuild TensorFlow with the appropriate compiler flags.\n"
     ]
    }
   ],
   "source": [
    "from pathlib import Path\n",
    "import numpy as np\n",
    "import matplotlib.pyplot as plt\n",
    "\n",
    "import tensorflow as tf\n",
    "from tensorflow.keras.models import Model\n",
    "from tensorflow.keras.optimizers import Adam\n",
    "from tensorflow.keras import activations\n",
    "from tensorflow.keras.layers import Dense, Flatten, Reshape, Dropout, Conv1D, MaxPooling1D, BatchNormalization, Input\n",
    "from tensorflow.keras.utils import to_categorical\n"
   ]
  },
  {
   "cell_type": "code",
   "execution_count": 2,
   "id": "fe0b162b",
   "metadata": {},
   "outputs": [],
   "source": [
    "from KeplerModel import KeplerModel"
   ]
  },
  {
   "cell_type": "code",
   "execution_count": 3,
   "id": "ccca5736",
   "metadata": {},
   "outputs": [],
   "source": [
    "\"\"\" \n",
    "Example of an artificial neural network model\n",
    "Derived from class KerasModel\n",
    "\"\"\"\n",
    "class MLPModel(KeplerModel):\n",
    "  def __init__(self, modelname, hparam):\n",
    "    super().__init__(modelname, hparam)\n",
    "\n",
    "    # Construct the model\n",
    "    inputShape = (2,256)\n",
    "    inputs = Input(shape=inputShape)\n",
    "    self.BuildModel(inputs, hparam)\n",
    "\n",
    "    self.SetLearningRate(hparam['learning_rate'])\n",
    "    self.SetLoss('mae')\n",
    "    self.SetMetrics(['mae','mse'])\n",
    "    self.SetOptimizer(Adam)\n",
    "    #self.Compile()\n",
    "  \n",
    "    self.SetModelName(\"mlp\")\n",
    "    self.SetModelVersion(1)\n",
    "    self.SetModelTrial(1)\n",
    "    \n",
    "    \n",
    "  def MLP(self, inputs, hp):\n",
    "    # Construct an MLP model\n",
    "\n",
    "    m = inputs\n",
    "    \n",
    "    self.dropout=np.full((hp['layers']),hp['dropout'])\n",
    "    batchNorm = hp['batch_norm']\n",
    "    act = hp['activation']\n",
    "    units = hp['units']\n",
    "    layers = hp['layers']\n",
    "    expansion = hp['expansion']\n",
    "    for layer in range(layers):\n",
    "      m = Dense(units)(m)\n",
    "      if batchNorm:\n",
    "        m = BatchNormalization()(m)\n",
    "      m = activations.get(act)(m)\n",
    "      if not batchNorm and self.dropout[layer] > 0.0:\n",
    "        m = Dropout(self.dropout[layer])(m)\n",
    "      units *= expansion\n",
    "\n",
    "    m = Dense(hp['final_units'])(m)\n",
    "    m = activations.get(hp['final_activation'])(m)\n",
    "    if batchNorm:\n",
    "      m = BatchNormalization()(m)\n",
    "    if not batchNorm and hp['final_dropout'] > 0.0:\n",
    "      m = Dropout(hp['final_dropout'])(m)\n",
    "\n",
    "    m = Dense(32, activation=hp['final_activation'])(m)\n",
    "    target = Dense(1, activation=hp['target_activation'], name='target')(m)\n",
    "    \n",
    "    return target\n",
    "    \n",
    "  def BuildModel(self, inputs, hp):\n",
    "    # Construct the model\n",
    "\n",
    "    target = self.MLP(inputs, hp)\n",
    "    m = Model(inputs=inputs, outputs=[target], name=\"mlp\")\n",
    "    self.SetModel(m)\n",
    "    return m\n",
    "    \n",
    "\n",
    "\n",
    "\n",
    "\n"
   ]
  },
  {
   "cell_type": "code",
   "execution_count": 4,
   "id": "aed08798",
   "metadata": {},
   "outputs": [],
   "source": [
    "def main():\n",
    "  hyperParam = {\n",
    "    'version': 1,\n",
    "    'revision': 0,\n",
    "    'trial': 1,\n",
    "    'units': 1024,\n",
    "    'expansion': 0.5,\n",
    "    'layers': 6,\n",
    "    'activation': 'relu',\n",
    "    'batch_norm': True,\n",
    "    'dropout': 0.0,\n",
    "    'final_units': 32,\n",
    "    'final_dropout': 0.0,\n",
    "    'final_activation': 'relu',\n",
    "    'target_activation': 'relu',\n",
    "    'learning_rate': 0.001,\n",
    "    'batch_size': 64,\n",
    "    'epoch': 0,\n",
    "    'begin': 0,\n",
    "    'epochs': 10,\n",
    "    'patience': 0,\n",
    "    'threshold': 0,\n",
    "  }\n",
    "\n",
    "  m = MLPModel('mlp', hyperParam)\n",
    "  print(m.model.summary())\n",
    "\n",
    "  m.SetModelTrial(1)\n",
    "  m.SetModelRevision(1)\n",
    "  m.SetModelPath(\"./model\")\n",
    "  m.SaveModel()"
   ]
  },
  {
   "cell_type": "code",
   "execution_count": 5,
   "id": "5f7c058f",
   "metadata": {},
   "outputs": [
    {
     "name": "stderr",
     "output_type": "stream",
     "text": [
      "2025-10-06 03:13:44.985595: E external/local_xla/xla/stream_executor/cuda/cuda_driver.cc:282] failed call to cuInit: CUDA_ERROR_NO_DEVICE: no CUDA-capable device is detected\n",
      "2025-10-06 03:13:44.985623: I external/local_xla/xla/stream_executor/cuda/cuda_diagnostics.cc:134] retrieving CUDA diagnostic information for host: nvgpu\n",
      "2025-10-06 03:13:44.985631: I external/local_xla/xla/stream_executor/cuda/cuda_diagnostics.cc:141] hostname: nvgpu\n",
      "2025-10-06 03:13:44.985692: I external/local_xla/xla/stream_executor/cuda/cuda_diagnostics.cc:165] libcuda reported version is: 550.163.1\n",
      "2025-10-06 03:13:44.985711: I external/local_xla/xla/stream_executor/cuda/cuda_diagnostics.cc:169] kernel reported version is: 550.163.1\n",
      "2025-10-06 03:13:44.985719: I external/local_xla/xla/stream_executor/cuda/cuda_diagnostics.cc:248] kernel version seems to match DSO: 550.163.1\n"
     ]
    },
    {
     "name": "stdout",
     "output_type": "stream",
     "text": [
      "Model: \"mlp\"\n",
      "_________________________________________________________________\n",
      " Layer (type)                Output Shape              Param #   \n",
      "=================================================================\n",
      " input_1 (InputLayer)        [(None, 2, 256)]          0         \n",
      "                                                                 \n",
      " dense (Dense)               (None, 2, 1024)           263168    \n",
      "                                                                 \n",
      " batch_normalization (Batch  (None, 2, 1024)           4096      \n",
      " Normalization)                                                  \n",
      "                                                                 \n",
      " tf.nn.relu (TFOpLambda)     (None, 2, 1024)           0         \n",
      "                                                                 \n",
      " dense_1 (Dense)             (None, 2, 512)            524800    \n",
      "                                                                 \n",
      " batch_normalization_1 (Bat  (None, 2, 512)            2048      \n",
      " chNormalization)                                                \n",
      "                                                                 \n",
      " tf.nn.relu_1 (TFOpLambda)   (None, 2, 512)            0         \n",
      "                                                                 \n",
      " dense_2 (Dense)             (None, 2, 256)            131328    \n",
      "                                                                 \n",
      " batch_normalization_2 (Bat  (None, 2, 256)            1024      \n",
      " chNormalization)                                                \n",
      "                                                                 \n",
      " tf.nn.relu_2 (TFOpLambda)   (None, 2, 256)            0         \n",
      "                                                                 \n",
      " dense_3 (Dense)             (None, 2, 128)            32896     \n",
      "                                                                 \n",
      " batch_normalization_3 (Bat  (None, 2, 128)            512       \n",
      " chNormalization)                                                \n",
      "                                                                 \n",
      " tf.nn.relu_3 (TFOpLambda)   (None, 2, 128)            0         \n",
      "                                                                 \n",
      " dense_4 (Dense)             (None, 2, 64)             8256      \n",
      "                                                                 \n",
      " batch_normalization_4 (Bat  (None, 2, 64)             256       \n",
      " chNormalization)                                                \n",
      "                                                                 \n",
      " tf.nn.relu_4 (TFOpLambda)   (None, 2, 64)             0         \n",
      "                                                                 \n",
      " dense_5 (Dense)             (None, 2, 32)             2080      \n",
      "                                                                 \n",
      " batch_normalization_5 (Bat  (None, 2, 32)             128       \n",
      " chNormalization)                                                \n",
      "                                                                 \n",
      " tf.nn.relu_5 (TFOpLambda)   (None, 2, 32)             0         \n",
      "                                                                 \n",
      " dense_6 (Dense)             (None, 2, 32)             1056      \n",
      "                                                                 \n",
      " tf.nn.relu_6 (TFOpLambda)   (None, 2, 32)             0         \n",
      "                                                                 \n",
      " batch_normalization_6 (Bat  (None, 2, 32)             128       \n",
      " chNormalization)                                                \n",
      "                                                                 \n",
      " dense_7 (Dense)             (None, 2, 32)             1056      \n",
      "                                                                 \n",
      " target (Dense)              (None, 2, 1)              33        \n",
      "                                                                 \n",
      "=================================================================\n",
      "Total params: 972865 (3.71 MB)\n",
      "Trainable params: 968769 (3.70 MB)\n",
      "Non-trainable params: 4096 (16.00 KB)\n",
      "_________________________________________________________________\n",
      "None\n",
      "WARNING:tensorflow:Compiled the loaded model, but the compiled metrics have yet to be built. `model.compile_metrics` will be empty until you train or evaluate the model.\n",
      "INFO:tensorflow:Assets written to: model/mlpv1r1t1-e0/assets\n"
     ]
    },
    {
     "name": "stderr",
     "output_type": "stream",
     "text": [
      "INFO:tensorflow:Assets written to: model/mlpv1r1t1-e0/assets\n"
     ]
    }
   ],
   "source": [
    "# -\n",
    "if __name__ == '__main__':\n",
    "  main()\n"
   ]
  },
  {
   "cell_type": "code",
   "execution_count": 7,
   "id": "e6c9955f",
   "metadata": {},
   "outputs": [
    {
     "name": "stdout",
     "output_type": "stream",
     "text": [
      "total 0\r\n",
      "drwxr-xr-x 4 root root 106 Oct  6 03:13 mlpv1r1t1-e0\r\n"
     ]
    }
   ],
   "source": [
    "!ls -lt model"
   ]
  },
  {
   "cell_type": "code",
   "execution_count": null,
   "id": "abd54daf",
   "metadata": {},
   "outputs": [],
   "source": []
  }
 ],
 "metadata": {
  "kernelspec": {
   "display_name": "Python 3 (ipykernel)",
   "language": "python",
   "name": "python3"
  },
  "language_info": {
   "codemirror_mode": {
    "name": "ipython",
    "version": 3
   },
   "file_extension": ".py",
   "mimetype": "text/x-python",
   "name": "python",
   "nbconvert_exporter": "python",
   "pygments_lexer": "ipython3",
   "version": "3.10.12"
  }
 },
 "nbformat": 4,
 "nbformat_minor": 5
}
